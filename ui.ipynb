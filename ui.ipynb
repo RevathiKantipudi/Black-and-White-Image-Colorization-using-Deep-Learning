{
  "nbformat": 4,
  "nbformat_minor": 0,
  "metadata": {
    "colab": {
      "provenance": []
    },
    "kernelspec": {
      "name": "python3",
      "display_name": "Python 3"
    },
    "language_info": {
      "name": "python"
    }
  },
  "cells": [
    {
      "cell_type": "code",
      "execution_count": 61,
      "metadata": {
        "id": "ZJtQXI1hQp7G"
      },
      "outputs": [],
      "source": [
        "!pip install -q streamlit"
      ]
    },
    {
      "cell_type": "code",
      "source": [
        "%%writefile app.py\n",
        "\n",
        "import streamlit as st\n",
        "import numpy as np\n",
        "from PIL import Image\n",
        "from skimage.color import rgb2lab, lab2rgb\n",
        "from tensorflow.keras.models import load_model\n",
        "\n",
        "model = load_model('model.h5')\n",
        "\n",
        "def main():\n",
        "    st.title(\"Black and White image Colorization\")\n",
        "    st.write(\"Please upload a JPG file.\")\n",
        "\n",
        "\n",
        "    uploaded_file = st.file_uploader(\"Upload JPG file\", type=[\"jpg\", \"jpeg\"])\n",
        "\n",
        "   \n",
        "    if uploaded_file is not None:\n",
        "        image = Image.open(uploaded_file)\n",
        "        processed_image = process_image(image)\n",
        "        \n",
        "        col1, col2= st.columns(2)\n",
        "\n",
        "        with col1:\n",
        "          st.subheader(\"Uploaded JPG file\")\n",
        "          st.image(image, caption='Uploaded JPG file')\n",
        "\n",
        "        with col2:\n",
        "          st.subheader(\"Processed Image\")\n",
        "          st.image(processed_image, caption='Processed Image')\n",
        "\n",
        "\n",
        "def process_image(image):\n",
        "    \n",
        "    img_array = np.array(image)\n",
        "\n",
        "    \n",
        "    img_resized = np.array(Image.fromarray(img_array).resize((256, 256)))\n",
        "    img_normalized = img_resized / 255.0\n",
        "\n",
        "    \n",
        "    img_lab = rgb2lab(img_normalized)\n",
        "\n",
        "  \n",
        "    img_l = img_lab[:, :, 0]\n",
        "\n",
        "    \n",
        "    img_input = img_l.reshape((1, 256, 256, 1))\n",
        "\n",
        "    \n",
        "    output = model.predict(img_input)\n",
        "    output *= 128\n",
        "\n",
        "    \n",
        "    result = np.zeros((256, 256, 3))\n",
        "    result[:, :, 0] = img_l\n",
        "    result[:, :, 1:] = output[0]\n",
        "\n",
        "    \n",
        "    img_rgb = lab2rgb(result)\n",
        "\n",
        "    \n",
        "    processed_image = Image.fromarray((img_rgb * 255).astype(np.uint8))\n",
        "\n",
        "    return processed_image\n",
        "\n",
        "if __name__ == \"__main__\":\n",
        "    main()\n"
      ],
      "metadata": {
        "colab": {
          "base_uri": "https://localhost:8080/"
        },
        "id": "I6MLdryNQzVU",
        "outputId": "46492402-c570-42e0-e013-75feae3577f2"
      },
      "execution_count": 67,
      "outputs": [
        {
          "output_type": "stream",
          "name": "stdout",
          "text": [
            "Overwriting app.py\n"
          ]
        }
      ]
    },
    {
      "cell_type": "code",
      "source": [
        "!npm install localtunnel"
      ],
      "metadata": {
        "colab": {
          "base_uri": "https://localhost:8080/"
        },
        "id": "LDPqzgtAQrcK",
        "outputId": "32962abb-e9a4-465e-8395-03a365803a90"
      },
      "execution_count": 68,
      "outputs": [
        {
          "output_type": "stream",
          "name": "stdout",
          "text": [
            "\u001b[K\u001b[?25h\u001b[37;40mnpm\u001b[0m \u001b[0m\u001b[30;43mWARN\u001b[0m \u001b[0m\u001b[35msaveError\u001b[0m ENOENT: no such file or directory, open '/content/package.json'\n",
            "\u001b[0m\u001b[37;40mnpm\u001b[0m \u001b[0m\u001b[30;43mWARN\u001b[0m \u001b[0m\u001b[35menoent\u001b[0m ENOENT: no such file or directory, open '/content/package.json'\n",
            "\u001b[0m\u001b[37;40mnpm\u001b[0m \u001b[0m\u001b[30;43mWARN\u001b[0m\u001b[35m\u001b[0m content No description\n",
            "\u001b[0m\u001b[37;40mnpm\u001b[0m \u001b[0m\u001b[30;43mWARN\u001b[0m\u001b[35m\u001b[0m content No repository field.\n",
            "\u001b[0m\u001b[37;40mnpm\u001b[0m \u001b[0m\u001b[30;43mWARN\u001b[0m\u001b[35m\u001b[0m content No README data\n",
            "\u001b[0m\u001b[37;40mnpm\u001b[0m \u001b[0m\u001b[30;43mWARN\u001b[0m\u001b[35m\u001b[0m content No license field.\n",
            "\u001b[0m\n",
            "\u001b[K\u001b[?25h+ localtunnel@2.0.2\n",
            "updated 1 package and audited 36 packages in 0.521s\n",
            "\n",
            "3 packages are looking for funding\n",
            "  run `npm fund` for details\n",
            "\n",
            "found \u001b[92m0\u001b[0m vulnerabilities\n",
            "\n"
          ]
        }
      ]
    },
    {
      "cell_type": "code",
      "source": [
        "!streamlit run app.py &>/content/logs.txt & curl ipv4.icanhazip.com"
      ],
      "metadata": {
        "colab": {
          "base_uri": "https://localhost:8080/"
        },
        "id": "jXwM_2cBQz3Y",
        "outputId": "1446167f-8c3d-4b29-8e3d-f2c8e956cc5d"
      },
      "execution_count": 69,
      "outputs": [
        {
          "output_type": "stream",
          "name": "stdout",
          "text": [
            "34.80.54.250\n"
          ]
        }
      ]
    },
    {
      "cell_type": "code",
      "source": [
        "!npx localtunnel --port 8501"
      ],
      "metadata": {
        "colab": {
          "base_uri": "https://localhost:8080/"
        },
        "id": "tx7j53_dQ5ZA",
        "outputId": "e352e878-fdb1-4151-bd18-2da182f64cdf"
      },
      "execution_count": null,
      "outputs": [
        {
          "output_type": "stream",
          "name": "stdout",
          "text": [
            "\u001b[K\u001b[?25hnpx: installed 22 in 2.291s\n",
            "your url is: https://social-symbols-repeat.loca.lt\n"
          ]
        }
      ]
    },
    {
      "cell_type": "code",
      "source": [],
      "metadata": {
        "id": "B6GVNgqKRy3w"
      },
      "execution_count": null,
      "outputs": []
    }
  ]
}